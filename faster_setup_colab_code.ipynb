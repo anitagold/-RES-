{
  "nbformat": 4,
  "nbformat_minor": 0,
  "metadata": {
    "colab": {
      "name": "faster setup_colab code.ipynb",
      "version": "0.3.2",
      "provenance": [],
      "collapsed_sections": [],
      "include_colab_link": true
    },
    "kernelspec": {
      "name": "python3",
      "display_name": "Python 3"
    },
    "accelerator": "GPU"
  },
  "cells": [
    {
      "cell_type": "markdown",
      "metadata": {
        "id": "view-in-github",
        "colab_type": "text"
      },
      "source": [
        "<a href=\"https://colab.research.google.com/github/anitagold/-RES-/blob/master/faster_setup_colab_code.ipynb\" target=\"_parent\"><img src=\"https://colab.research.google.com/assets/colab-badge.svg\" alt=\"Open In Colab\"/></a>"
      ]
    },
    {
      "cell_type": "markdown",
      "metadata": {
        "id": "bVkJvZvvFGMc",
        "colab_type": "text"
      },
      "source": [
        "# Faster way to access drive."
      ]
    },
    {
      "cell_type": "code",
      "metadata": {
        "id": "Os5K-HrhEOYT",
        "colab_type": "code",
        "colab": {}
      },
      "source": [
        "# Load the Drive helper and mount\n",
        "from google.colab import drive\n",
        "\n",
        "# This will prompt for authorization.\n",
        "drive.mount('/content/drive')"
      ],
      "execution_count": 0,
      "outputs": []
    },
    {
      "cell_type": "code",
      "metadata": {
        "id": "_4WbnLTgEVuA",
        "colab_type": "code",
        "colab": {}
      },
      "source": [
        "#lists the content of your google drive\n",
        "!ls \"/content/drive/My Drive\""
      ],
      "execution_count": 0,
      "outputs": []
    },
    {
      "cell_type": "code",
      "metadata": {
        "id": "msHpFJnvYfwo",
        "colab_type": "code",
        "colab": {}
      },
      "source": [
        "# Change Working directory\n",
        "import os\n",
        "\n",
        "os.chdir(\"/content/drive/My Drive/Colab Notebooks/\")\n",
        "print(os.listdir(\".\"))"
      ],
      "execution_count": 0,
      "outputs": []
    },
    {
      "cell_type": "code",
      "metadata": {
        "id": "KacapyjbEdM8",
        "colab_type": "code",
        "colab": {}
      },
      "source": [
        "#To open a file\n",
        "# x=Image.open('drive/My Drive/location_of_any_image_in_your_drive') #READS AS AN IMAGE\n",
        "\n",
        "import io\n",
        "\n",
        "from PIL import Image\n",
        "x = Image.open('/content/drive/My Drive/Colab Notebooks/style-transfer/images/octopus.jpg')\n",
        "x.show()"
      ],
      "execution_count": 0,
      "outputs": []
    }
  ]
}